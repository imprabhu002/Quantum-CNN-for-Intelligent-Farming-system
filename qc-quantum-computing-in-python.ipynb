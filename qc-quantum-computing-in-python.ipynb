{
 "cells": [
  {
   "cell_type": "markdown",
   "metadata": {
    "_uuid": "e6e680ff2a77bfb003fc69ab2b2bed5b8d4ef2ab",
    "papermill": {
     "duration": 0.015161,
     "end_time": "2021-08-01T00:39:04.474497",
     "exception": false,
     "start_time": "2021-08-01T00:39:04.459336",
     "status": "completed"
    },
    "tags": []
   },
   "source": [
    "# Quantum Computing In Python\n",
    "\n",
    "![](https://www.ias.edu/sites/default/files/styles/grid_feature_teaser/public/images/featured-thumbnails/ideas/dt_c120417.jpg)\n",
    "\n",
    "* This Notebook will show that we can successfully simulate simple quantum computation on classical computers. Quantum computation in its simplest form can be represented by just a bunch of vector and matrix operations. After reading this post we will be ready to code simple quantum circuit in Python.\n",
    "\n",
    "<img src=\"https://www.autodesk.com/products/eagle/blog/wp-content/uploads/2017/05/qubit.png)\" alt=\"Smiley face\" height=\"200\" width=\"300\">\n",
    "\n",
    "* The deﬁnition of qubit lies in the center of quantum computation theory. Before we dive into the explanation of qubit, let us recall the deﬁnition of classical bit. The state of classical bit can be in two states represented by column vectors:..\n",
    "\n",
    "<img src=\"http://dkopczyk.quantee.co.uk/wp-content/ql-cache/quicklatex.com-bf3537e27e958d50f7fdeb10396e6af7_l3.svg\" alt=\"Smiley face\" height=\"40\" width=\"100\">\n",
    "\n",
    "\n",
    "In Python they can be represented by two numpy arrays:"
   ]
  },
  {
   "cell_type": "code",
   "execution_count": 1,
   "metadata": {
    "_cell_guid": "b1076dfc-b9ad-4769-8c92-a6c4dae69d19",
    "_kg_hide-input": false,
    "_uuid": "8f2839f25d086af736a60e9eeb907d3b93b6e0e5",
    "execution": {
     "iopub.execute_input": "2021-08-01T00:39:04.503055Z",
     "iopub.status.busy": "2021-08-01T00:39:04.502356Z",
     "iopub.status.idle": "2021-08-01T00:39:04.506234Z",
     "shell.execute_reply": "2021-08-01T00:39:04.506773Z"
    },
    "papermill": {
     "duration": 0.019763,
     "end_time": "2021-08-01T00:39:04.506926",
     "exception": false,
     "start_time": "2021-08-01T00:39:04.487163",
     "status": "completed"
    },
    "tags": []
   },
   "outputs": [],
   "source": [
    "# Input data files are available in the \"../input/\" directory..\n",
    "\n",
    "import numpy as np # linear algebra.\n",
    "import pandas as pd # data processing, CSV file I/O (e.g. pd.read_csv)\n",
    "import os\n",
    "# print(os.listdir(\"..../input\"))"
   ]
  },
  {
   "cell_type": "code",
   "execution_count": 2,
   "metadata": {
    "_cell_guid": "79c7e3d0-c299-4dcb-8224-4455121ee9b0",
    "_uuid": "d629ff2d2480ee46fbb7e2d37f6b5fab8052498a",
    "execution": {
     "iopub.execute_input": "2021-08-01T00:39:04.535157Z",
     "iopub.status.busy": "2021-08-01T00:39:04.534535Z",
     "iopub.status.idle": "2021-08-01T00:39:04.539649Z",
     "shell.execute_reply": "2021-08-01T00:39:04.539045Z"
    },
    "papermill": {
     "duration": 0.020238,
     "end_time": "2021-08-01T00:39:04.539767",
     "exception": false,
     "start_time": "2021-08-01T00:39:04.519529",
     "status": "completed"
    },
    "tags": []
   },
   "outputs": [],
   "source": [
    "# Create zero and one states..\n",
    "state_zero = np.array([[1.0],[0.0]])\n",
    "state_one = np.array([[0.0],[1.0]])"
   ]
  },
  {
   "cell_type": "markdown",
   "metadata": {
    "_uuid": "f631e7d4821c7d73d2a73fbf426c85f1d375bac5",
    "papermill": {
     "duration": 0.012466,
     "end_time": "2021-08-01T00:39:04.564921",
     "exception": false,
     "start_time": "2021-08-01T00:39:04.552455",
     "status": "completed"
    },
    "tags": []
   },
   "source": [
    "* Qubit can be in superposition of two states defined in Eq.(1):\n",
    "\n",
    "<img src=\"http://dkopczyk.quantee.co.uk/wp-content/ql-cache/quicklatex.com-6b29717806a32429f6008459053b6e02_l3.svg\" alt=\"Smiley face\" height=\"100\" width=\"200\">\n",
    "\n",
    "\n",
    "* Parameters c_1 and c_2 are called probability amplitudes and are complex numbers. Their norm squares |of c_1|^2 and |c_2|^2 are probabilities that as a result of measurement of a qubit would be found in state |0} and |1}, respectively. \n",
    "* Since these are probabilities the sum of these norm squares for a given state must sum to one:\n",
    "\n",
    "<img src=\"http://dkopczyk.quantee.co.uk/wp-content/ql-cache/quicklatex.com-ab025cd81091d26c1a98a65ad958635f_l3.svg\" alt=\"Smiley face\" height=\"100\" width=\"200\">\n",
    "\n",
    "***A state in superposition:***\n",
    "\n",
    "<img src=\"http://dkopczyk.quantee.co.uk/wp-content/ql-cache/quicklatex.com-e7e1a2544c21c18f7faa67ef642bc920_l3.svg\" alt=\"Smiley face\" height=\"100\" width=\"200\">"
   ]
  },
  {
   "cell_type": "code",
   "execution_count": 3,
   "metadata": {
    "_uuid": "8ba7cbf3367c652cb17f7b07308100334c43fd28",
    "execution": {
     "iopub.execute_input": "2021-08-01T00:39:04.596033Z",
     "iopub.status.busy": "2021-08-01T00:39:04.595364Z",
     "iopub.status.idle": "2021-08-01T00:39:04.599048Z",
     "shell.execute_reply": "2021-08-01T00:39:04.598418Z"
    },
    "papermill": {
     "duration": 0.021611,
     "end_time": "2021-08-01T00:39:04.599152",
     "exception": false,
     "start_time": "2021-08-01T00:39:04.577541",
     "status": "completed"
    },
    "tags": []
   },
   "outputs": [
    {
     "name": "stdout",
     "output_type": "stream",
     "text": [
      "[[0.70710678]\n",
      " [0.70710678]]\n"
     ]
    }
   ],
   "source": [
    "# Superposition\n",
    "c1 = 1.0 / 2**0.5\n",
    "c2 = 1.0 / 2**0.5\n",
    "state_superposition = c1 * state_zero + c2 * state_one\n",
    "print(state_superposition)"
   ]
  },
  {
   "cell_type": "markdown",
   "metadata": {
    "_uuid": "d457104977b564b640a8d415018f8b480c1b9cd8",
    "papermill": {
     "duration": 0.012592,
     "end_time": "2021-08-01T00:39:04.625234",
     "exception": false,
     "start_time": "2021-08-01T00:39:04.612642",
     "status": "completed"
    },
    "tags": []
   },
   "source": [
    "## Assembling qubits\n",
    "\n",
    "Quantum computer built by IBM is made up of 16 qubits. How to describe a system composed of more than one qubit? The answer comes with the concept of tensor product and allows us to correctly describe a multi-particle quantum state. The tensor product between two states is denoted by symbol shown below and we can write an example of multi-qubit state as shown in the image\n",
    "\n",
    "<img src=\"http://dkopczyk.quantee.co.uk/wp-content/ql-cache/quicklatex.com-2b2475ecc276827f9d210ac1061c1391_l3.svg\" alt=\"Smiley face\" height=\"300\" width=\"400\">\n",
    "\n",
    "\n",
    "Tensor product that deals with vectors and matrices is also called Kronecker product and has been implemented in Numpy. Let’s build a state \\011}:"
   ]
  },
  {
   "cell_type": "code",
   "execution_count": 4,
   "metadata": {
    "_kg_hide-output": true,
    "_uuid": "b97e0965d92c0597c33a6ed7cac9abd15b84e8e5",
    "execution": {
     "iopub.execute_input": "2021-08-01T00:39:04.662050Z",
     "iopub.status.busy": "2021-08-01T00:39:04.661125Z",
     "iopub.status.idle": "2021-08-01T00:39:04.665009Z",
     "shell.execute_reply": "2021-08-01T00:39:04.665456Z"
    },
    "papermill": {
     "duration": 0.027393,
     "end_time": "2021-08-01T00:39:04.665614",
     "exception": false,
     "start_time": "2021-08-01T00:39:04.638221",
     "status": "completed"
    },
    "tags": []
   },
   "outputs": [
    {
     "name": "stdout",
     "output_type": "stream",
     "text": [
      "[[0.]\n",
      " [0.]\n",
      " [0.]\n",
      " [1.]\n",
      " [0.]\n",
      " [0.]\n",
      " [0.]\n",
      " [0.]]\n",
      "[[0.]\n",
      " [0.]\n",
      " [0.]\n",
      " [0.]\n",
      " [0.]\n",
      " [0.]\n",
      " [0.]\n",
      " [0.]\n",
      " [0.]\n",
      " [0.]\n",
      " [0.]\n",
      " [0.]\n",
      " [0.]\n",
      " [0.]\n",
      " [0.]\n",
      " [0.]\n",
      " [0.]\n",
      " [0.]\n",
      " [0.]\n",
      " [0.]\n",
      " [0.]\n",
      " [0.]\n",
      " [0.]\n",
      " [0.]\n",
      " [0.]\n",
      " [0.]\n",
      " [0.]\n",
      " [0.]\n",
      " [0.]\n",
      " [1.]\n",
      " [0.]\n",
      " [0.]\n",
      " [0.]\n",
      " [0.]\n",
      " [0.]\n",
      " [0.]\n",
      " [0.]\n",
      " [0.]\n",
      " [0.]\n",
      " [0.]\n",
      " [0.]\n",
      " [0.]\n",
      " [0.]\n",
      " [0.]\n",
      " [0.]\n",
      " [0.]\n",
      " [0.]\n",
      " [0.]\n",
      " [0.]\n",
      " [0.]\n",
      " [0.]\n",
      " [0.]\n",
      " [0.]\n",
      " [0.]\n",
      " [0.]\n",
      " [0.]\n",
      " [0.]\n",
      " [0.]\n",
      " [0.]\n",
      " [0.]\n",
      " [0.]\n",
      " [0.]\n",
      " [0.]\n",
      " [0.]]\n",
      "(64, 1)\n"
     ]
    }
   ],
   "source": [
    "# Assembling qunatum states\n",
    "state_three = np.kron(np.kron(state_zero, state_one), state_one)\n",
    "print(state_three)\n",
    "\n",
    "def multi_kron(*args):\n",
    "    ret = np.array([[1.0]])\n",
    "    for q in args:\n",
    "        ret = np.kron(ret, q)\n",
    "    return ret\n",
    "\n",
    "state_multi = multi_kron(state_zero, state_one, state_one, \n",
    "                         state_one, state_zero, state_one)\n",
    "\n",
    "print(state_multi)\n",
    "print(state_multi.shape)"
   ]
  },
  {
   "cell_type": "markdown",
   "metadata": {
    "_uuid": "f26e421c4c79f2873dc915dd4dfeea4fa76cd92d",
    "papermill": {
     "duration": 0.013009,
     "end_time": "2021-08-01T00:39:04.692177",
     "exception": false,
     "start_time": "2021-08-01T00:39:04.679168",
     "status": "completed"
    },
    "tags": []
   },
   "source": [
    "The  state_multi  is 2^6=64 dimensional vector and the dimensionality of an assembled state grows exponentially with number of qubits in a system.  This illustrates the overwhelming diﬀerence between quantum and classical computers. In order to simulate 64 qubit system 2^{64}=18,446,744,073,709,551,616 complex numbers are required."
   ]
  },
  {
   "cell_type": "markdown",
   "metadata": {
    "_uuid": "709cea872542a30568a39e24124ef29acb50abfb",
    "papermill": {
     "duration": 0.013142,
     "end_time": "2021-08-01T00:39:04.718879",
     "exception": false,
     "start_time": "2021-08-01T00:39:04.705737",
     "status": "completed"
    },
    "tags": []
   },
   "source": [
    "## Quantum Gates\n",
    "\n",
    "We successfully created single and multi qubit states in Python. Now, we would like to find out how to perform various transformation of these states. The quantum gates are a way of qubits manipulation.\n",
    "\n",
    "![](https://cdn-images-1.medium.com/max/1600/1*POeoWmy78HJDZRPgp8pVIA.png)\n",
    "\n",
    "A state enters a gate in quantum circuit and exits as another state, thus quantum gates represent time evolution of a state describing qubits and must satisfy following criteria:\n",
    "\n",
    "* **Must preserve norms i.e. norm squared probability amplitudes sum to one after application of gate,**\n",
    "* **Must be reversible i.e. evolution of each not measured quantum state must be reversible.**\n",
    "\n",
    "It turns out that unitary matrices meet the conditions and a trivial example is just identity matrix:\n",
    "\n",
    "\n",
    "<img src=\"http://dkopczyk.quantee.co.uk/wp-content/ql-cache/quicklatex.com-2f317569ee0c99935023e17bcbe18f4e_l3.svg\" alt=\"Smiley face\" height=\"40\" width=\"100\">\n",
    "\n",
    "\n",
    "Another example of quantum gate, this time more interesting, is Hadamard gate:\n",
    "\n",
    "<img src=\"http://dkopczyk.quantee.co.uk/wp-content/ql-cache/quicklatex.com-4c69760f054bedd43c0d9446ab12b60e_l3.svg\" alt=\"Smiley face\" height=\"40\" width=\"100\">\n",
    "\n",
    "![](https://www.researchgate.net/profile/Francois_Impens/publication/3409658/figure/fig1/AS:394692047982605@1471113325853/Basic-quantum-gates-and-their-matrix-representations.png)"
   ]
  },
  {
   "cell_type": "code",
   "execution_count": 5,
   "metadata": {
    "_uuid": "8a4edb4ba3463d676efc42b573bcfdc85203cac2",
    "execution": {
     "iopub.execute_input": "2021-08-01T00:39:04.749329Z",
     "iopub.status.busy": "2021-08-01T00:39:04.748356Z",
     "iopub.status.idle": "2021-08-01T00:39:04.758318Z",
     "shell.execute_reply": "2021-08-01T00:39:04.757716Z"
    },
    "papermill": {
     "duration": 0.026201,
     "end_time": "2021-08-01T00:39:04.758446",
     "exception": false,
     "start_time": "2021-08-01T00:39:04.732245",
     "status": "completed"
    },
    "tags": []
   },
   "outputs": [
    {
     "name": "stdout",
     "output_type": "stream",
     "text": [
      "[[0.70710678]\n",
      " [0.70710678]]\n"
     ]
    }
   ],
   "source": [
    "# Qunatum gates\n",
    "gate_H = 1.0 / 2**0.5 * np.array([[1, 1],\n",
    "                                  [1, -1]])\n",
    "state_new = np.dot(gate_H, state_zero)\n",
    "print(state_new)"
   ]
  },
  {
   "cell_type": "markdown",
   "metadata": {
    "_uuid": "ea5c3c79e48cd31cda68e73e3d44baff429305c8",
    "papermill": {
     "duration": 0.01387,
     "end_time": "2021-08-01T00:39:04.786199",
     "exception": false,
     "start_time": "2021-08-01T00:39:04.772329",
     "status": "completed"
    },
    "tags": []
   },
   "source": [
    "A 2×2 matrix is acting on a single qubit state, 4×4 matrix on 2-qubit state, and so on. To see what is the action of Hadamard gate on |0} we need to use matrix multiplication np.dot in Python:\n",
    "    \n",
    "**state_new = np.dot(gate_H, state_zero)**\n",
    "\n",
    "Notice that state_new is just a superposition state_superposition from Eq.(4):\n",
    "\n",
    "<img src=\"http://dkopczyk.quantee.co.uk/wp-content/ql-cache/quicklatex.com-b30de54cbe99c2edd232093aaa74597d_l3.svg\" alt=\"Smiley face\" height=\"250\" width=\"350\">\n",
    "\n",
    "Therefore the role of Hadamard gate is to create a superposition of states!\n",
    "\n",
    "Quantum gates can be also performed on multi-qubit states, for instance SWAP gate represented by a matrix:\n",
    "\n",
    "<img src=\"http://dkopczyk.quantee.co.uk/wp-content/ql-cache/quicklatex.com-94964473b1451d7e6fb328ea9e27d825_l3.svg\" alt=\"Smiley face\" height=\"200\" width=\"200\">\n",
    "\n",
    "It swaps two qubits so that an example state |01} is evolved into state |10}:\n",
    "\n",
    "<img src=\"http://dkopczyk.quantee.co.uk/wp-content/ql-cache/quicklatex.com-2560282243561f175908098004e28cd8_l3.svg\" alt=\"Smiley face\" height=\"250\" width=\"350\">"
   ]
  },
  {
   "cell_type": "code",
   "execution_count": 6,
   "metadata": {
    "_uuid": "d0dfc532708abfc60f43b09b5c4d1c9a68a98ab3",
    "execution": {
     "iopub.execute_input": "2021-08-01T00:39:04.822330Z",
     "iopub.status.busy": "2021-08-01T00:39:04.821531Z",
     "iopub.status.idle": "2021-08-01T00:39:04.824423Z",
     "shell.execute_reply": "2021-08-01T00:39:04.824968Z"
    },
    "papermill": {
     "duration": 0.024891,
     "end_time": "2021-08-01T00:39:04.825100",
     "exception": false,
     "start_time": "2021-08-01T00:39:04.800209",
     "status": "completed"
    },
    "tags": []
   },
   "outputs": [
    {
     "name": "stdout",
     "output_type": "stream",
     "text": [
      "[[0.]\n",
      " [0.]\n",
      " [1.]\n",
      " [0.]]\n"
     ]
    }
   ],
   "source": [
    "gate_SWAP = np.array([[1,0,0,0],\n",
    "                      [0,0,1,0],\n",
    "                      [0,1,0,0],\n",
    "                      [0,0,0,1]])\n",
    "    \n",
    "state_t0 = multi_kron(state_zero, state_one)\n",
    "state_t1 = np.dot(gate_SWAP, state_t0)\n",
    "print(state_t1)"
   ]
  },
  {
   "cell_type": "markdown",
   "metadata": {
    "_uuid": "d0c8074a3bf74b0db57a6a4f5162a0baa333b821",
    "papermill": {
     "duration": 0.01401,
     "end_time": "2021-08-01T00:39:04.853837",
     "exception": false,
     "start_time": "2021-08-01T00:39:04.839827",
     "status": "completed"
    },
    "tags": []
   },
   "source": [
    "## Measurement\n",
    "\n",
    "To get information from quantum computer we need to perform measurement. Unfortunately (or fortunately) the universe works in such a way that a qubit after measurement collapses to state |0} or |1} with given probability corresponding to probability amplitudes. Remember parameters c_1 and c_2 from Eq.(2)?.\n",
    "\n",
    "To simulate measurement in Python, we will need objects called projectors defined as:\n",
    "\n",
    "<img src=\"http://dkopczyk.quantee.co.uk/wp-content/ql-cache/quicklatex.com-49a5e1a40c1fdd0d3ee79bdaa2e37ccb_l3.svg\" alt=\"Smiley face\" height=\"200\" width=\"300\">\n",
    "\n",
    "\n",
    "Note that {0| is just a complex conjugate of |0}. The projector P_0 applied on state |0} gives back state |0}:\n",
    "\n",
    "<img src=\"http://dkopczyk.quantee.co.uk/wp-content/ql-cache/quicklatex.com-1e7766091dd65d8ec80b85050435084b_l3.svg\" alt=\"Smiley face\" height=\"200\" width=\"300\">\n",
    "\n",
    "whereas applied on state |1} returns 0:\n",
    "\n",
    "<img src=\"http://dkopczyk.quantee.co.uk/wp-content/ql-cache/quicklatex.com-a80c82656d2bc48227185146751789ef_l3.svg\" alt=\"Smiley face\" height=\"200\" width=\"300\">\n",
    "\n",
    "due to the fact that states |0} and |1} are orthogonal, so that {0|1} vanishes. The projector P_0 applied on an arbitrary qubit state would give.:\n",
    "\n",
    "<img src=\"http://dkopczyk.quantee.co.uk/wp-content/ql-cache/quicklatex.com-1bd9a6d31374b14811161594e164ed4d_l3.svg\" alt=\"Smiley face\" height=\"200\" width=\"300\">\n",
    "\n",
    "so intuitively we can say that projector P_0 has something to do with checking the fraction of |0} in an arbitrary state. Indeed, the probability that qubit i of an arbitrary multi-qubit state |psi} when measured is in state |0} can be expressed as:\n",
    "\n",
    "<img src=\"http://dkopczyk.quantee.co.uk/wp-content/ql-cache/quicklatex.com-e371d387c7d662ad0e855dd5973d4644_l3.svg\" alt=\"Smiley face\" height=\"50\" width=\"130\">\n",
    "\n",
    "\n",
    "If we measure that the qubit i is in state |0} then the system just after the measurement would be in a state:\n",
    "\n",
    "<img src=\"http://dkopczyk.quantee.co.uk/wp-content/ql-cache/quicklatex.com-ce0ec8ef89f5cbe3c6bd4b63e6c5181b_l3.svg\" alt=\"Smiley face\" height=\"50\" width=\"100\">\n",
    "\n",
    "where the denominator is just a normalization factor thanks to which probabilities add to one.\n",
    "\n",
    "Let’s assume we have prepared following state:\n",
    "\n",
    "<img src=\"http://dkopczyk.quantee.co.uk/wp-content/ql-cache/quicklatex.com-5ce1e429e531db28038aa8e82611a390_l3.svg\" alt=\"Smiley face\" height=\"200\" width=\"300\">\n",
    "\n",
    "and want to simulate in Python the measurement of first qubit."
   ]
  },
  {
   "cell_type": "code",
   "execution_count": 7,
   "metadata": {
    "_uuid": "3ea0e59b70ecd8046fefadc889fe98075584f8c8",
    "execution": {
     "iopub.execute_input": "2021-08-01T00:39:04.888726Z",
     "iopub.status.busy": "2021-08-01T00:39:04.887885Z",
     "iopub.status.idle": "2021-08-01T00:39:04.891589Z",
     "shell.execute_reply": "2021-08-01T00:39:04.891020Z"
    },
    "papermill": {
     "duration": 0.023474,
     "end_time": "2021-08-01T00:39:04.891716",
     "exception": false,
     "start_time": "2021-08-01T00:39:04.868242",
     "status": "completed"
    },
    "tags": []
   },
   "outputs": [
    {
     "name": "stdout",
     "output_type": "stream",
     "text": [
      "[[0.        ]\n",
      " [0.70710678]\n",
      " [0.        ]\n",
      " [0.70710678]]\n"
     ]
    }
   ],
   "source": [
    "gate_I = np.eye(2)\n",
    "state_t0 = multi_kron(state_zero, state_one)\n",
    "state_t1 = np.dot(multi_kron(gate_H, gate_I), state_t0)\n",
    "print(state_t1)"
   ]
  },
  {
   "cell_type": "code",
   "execution_count": 8,
   "metadata": {
    "_uuid": "a79bfcc4528adc006809a522d35f606077efeab7",
    "execution": {
     "iopub.execute_input": "2021-08-01T00:39:04.927724Z",
     "iopub.status.busy": "2021-08-01T00:39:04.926946Z",
     "iopub.status.idle": "2021-08-01T00:39:04.929569Z",
     "shell.execute_reply": "2021-08-01T00:39:04.929058Z"
    },
    "papermill": {
     "duration": 0.022775,
     "end_time": "2021-08-01T00:39:04.929688",
     "exception": false,
     "start_time": "2021-08-01T00:39:04.906913",
     "status": "completed"
    },
    "tags": []
   },
   "outputs": [],
   "source": [
    "# Prepare state\n",
    "state = np.dot(multi_kron(gate_H, gate_H), multi_kron(state_zero, state_zero))"
   ]
  },
  {
   "cell_type": "code",
   "execution_count": 9,
   "metadata": {
    "_uuid": "ae05efd75e5d2755374d595cdef2d1c53e79e636",
    "execution": {
     "iopub.execute_input": "2021-08-01T00:39:04.965535Z",
     "iopub.status.busy": "2021-08-01T00:39:04.964826Z",
     "iopub.status.idle": "2021-08-01T00:39:04.970383Z",
     "shell.execute_reply": "2021-08-01T00:39:04.969893Z"
    },
    "papermill": {
     "duration": 0.025584,
     "end_time": "2021-08-01T00:39:04.970509",
     "exception": false,
     "start_time": "2021-08-01T00:39:04.944925",
     "status": "completed"
    },
    "tags": []
   },
   "outputs": [],
   "source": [
    "# Projectors\n",
    "P0 = np.dot(state_zero, state_zero.T)\n",
    "P1 = np.dot(state_one, state_one.T)"
   ]
  },
  {
   "cell_type": "code",
   "execution_count": 10,
   "metadata": {
    "_uuid": "efc460053ac68ec10e6eed564e63441f358fcd1b",
    "execution": {
     "iopub.execute_input": "2021-08-01T00:39:05.005921Z",
     "iopub.status.busy": "2021-08-01T00:39:05.005270Z",
     "iopub.status.idle": "2021-08-01T00:39:05.032698Z",
     "shell.execute_reply": "2021-08-01T00:39:05.033178Z"
    },
    "papermill": {
     "duration": 0.047768,
     "end_time": "2021-08-01T00:39:05.033338",
     "exception": false,
     "start_time": "2021-08-01T00:39:04.985570",
     "status": "completed"
    },
    "tags": []
   },
   "outputs": [],
   "source": [
    "# Probability of first qubit being in state 0\n",
    "rho = np.dot(state, state.T)\n",
    "prob0 = np.trace(np.dot(multi_kron(P0, gate_I), rho))"
   ]
  },
  {
   "cell_type": "code",
   "execution_count": 11,
   "metadata": {
    "_uuid": "6f4e1a235e0577dc654c0c1dbeba4bf2d22fed47",
    "execution": {
     "iopub.execute_input": "2021-08-01T00:39:05.070999Z",
     "iopub.status.busy": "2021-08-01T00:39:05.070381Z",
     "iopub.status.idle": "2021-08-01T00:39:05.073901Z",
     "shell.execute_reply": "2021-08-01T00:39:05.073343Z"
    },
    "papermill": {
     "duration": 0.025116,
     "end_time": "2021-08-01T00:39:05.074008",
     "exception": false,
     "start_time": "2021-08-01T00:39:05.048892",
     "status": "completed"
    },
    "tags": []
   },
   "outputs": [],
   "source": [
    "# Simulate\n",
    "if np.random.rand() < prob0:\n",
    "    ret = 0\n",
    "    state_ret = np.dot(multi_kron(P0, gate_I), state)\n",
    "else:\n",
    "    ret = 1\n",
    "    state_ret = np.dot(multi_kron(P1, gate_I), state) "
   ]
  },
  {
   "cell_type": "code",
   "execution_count": 12,
   "metadata": {
    "_uuid": "1f5a5e3c8774b4ff0347a2a6d54112174958403e",
    "execution": {
     "iopub.execute_input": "2021-08-01T00:39:05.110574Z",
     "iopub.status.busy": "2021-08-01T00:39:05.109883Z",
     "iopub.status.idle": "2021-08-01T00:39:05.365457Z",
     "shell.execute_reply": "2021-08-01T00:39:05.364929Z"
    },
    "papermill": {
     "duration": 0.276334,
     "end_time": "2021-08-01T00:39:05.365601",
     "exception": false,
     "start_time": "2021-08-01T00:39:05.089267",
     "status": "completed"
    },
    "tags": []
   },
   "outputs": [
    {
     "name": "stdout",
     "output_type": "stream",
     "text": [
      "Qubit Measured: \n",
      " 1 \n",
      " After-Measurment State: \n",
      " [[0.        ]\n",
      " [0.        ]\n",
      " [0.70710678]\n",
      " [0.70710678]]\n"
     ]
    }
   ],
   "source": [
    "# Normalize\n",
    "from scipy import linalg\n",
    "state_ret /= linalg.norm(state_ret)\n",
    "\n",
    "print(\"Qubit Measured: \\n {} \\n After-Measurment State: \\n {}\".format(ret, state_ret))"
   ]
  },
  {
   "cell_type": "markdown",
   "metadata": {
    "_uuid": "02f84464f12896af15ef117523cc2aab5242185b",
    "papermill": {
     "duration": 0.015926,
     "end_time": "2021-08-01T00:39:05.397661",
     "exception": false,
     "start_time": "2021-08-01T00:39:05.381735",
     "status": "completed"
    },
    "tags": []
   },
   "source": [
    "## References\n",
    "* [IBM Builds Its Most Powerful Universal Quantum Computing Processors](https://www-03.ibm.com/press/us/en/pressrelease/52403.wss (2017)).\n",
    "* N. S. Yanofsky and M. A. Mannucci, Quantum Computing for Computer Scientists, Cambridge University press (2008)."
   ]
  }
 ],
 "metadata": {
  "kernelspec": {
   "display_name": "Python 3",
   "language": "python",
   "name": "python3"
  },
  "language_info": {
   "codemirror_mode": {
    "name": "ipython",
    "version": 3
   },
   "file_extension": ".py",
   "mimetype": "text/x-python",
   "name": "python",
   "nbconvert_exporter": "python",
   "pygments_lexer": "ipython3",
   "version": "3.7.6"
  },
  "papermill": {
   "duration": 5.524035,
   "end_time": "2021-08-01T00:39:05.520429",
   "environment_variables": {},
   "exception": null,
   "input_path": "__notebook__.ipynb",
   "output_path": "__notebook__.ipynb",
   "parameters": {},
   "start_time": "2021-08-01T00:38:59.996394",
   "version": "2.1.0"
  }
 },
 "nbformat": 4,
 "nbformat_minor": 4
}
